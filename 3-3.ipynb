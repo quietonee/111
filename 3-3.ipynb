{
  "nbformat": 4,
  "nbformat_minor": 0,
  "metadata": {
    "colab": {
      "provenance": [],
      "authorship_tag": "ABX9TyOcl5fiW4QsgoYa/cZ2M4i1"
    },
    "kernelspec": {
      "name": "python3",
      "display_name": "Python 3"
    },
    "language_info": {
      "name": "python"
    }
  },
  "cells": [
    {
      "cell_type": "code",
      "execution_count": null,
      "metadata": {
        "id": "B5q997oCQXUJ"
      },
      "outputs": [],
      "source": [
        "3.某班學生人數不詳，欲輸入每一個學生成績，當輸入 -1 時表示結束輸入，然後顯示出全班人數、及格人數、不及格人數、以及全班平均值。\n"
      ]
    },
    {
      "cell_type": "code",
      "source": [
        "total_students = 0\n",
        "pass_students = 0\n",
        "fail_students = 0\n",
        "total_score = 0\n",
        "\n",
        "while True:\n",
        "    score = float(input(\"請輸入學生成績 (-1 結束輸入): \"))\n",
        "\n",
        "    if score == -1:\n",
        "        break\n",
        "\n",
        "    total_students += 1\n",
        "    total_score += score\n",
        "\n",
        "    if score >= 60:\n",
        "        pass_students += 1\n",
        "    else:\n",
        "        fail_students += 1\n",
        "\n",
        "average_score = total_score / total_students if total_students != 0 else 0\n",
        "\n",
        "print(f\"全班人數: {total_students}\")\n",
        "print(f\"及格人數: {pass_students}\")\n",
        "print(f\"不及格人數: {fail_students}\")\n",
        "print(f\"全班平均成績: {average_score:.2f}\")\n"
      ],
      "metadata": {
        "colab": {
          "base_uri": "https://localhost:8080/"
        },
        "id": "CnfRNGQPRAOj",
        "outputId": "dc607eb8-3581-48d0-e33c-cd4f0f5f8f2b"
      },
      "execution_count": null,
      "outputs": [
        {
          "output_type": "stream",
          "name": "stdout",
          "text": [
            "請輸入學生成績 (-1 結束輸入): 20\n",
            "請輸入學生成績 (-1 結束輸入): 20\n",
            "請輸入學生成績 (-1 結束輸入): -1\n",
            "全班人數: 2\n",
            "及格人數: 0\n",
            "不及格人數: 2\n",
            "全班平均成績: 20.00\n"
          ]
        }
      ]
    }
  ]
}