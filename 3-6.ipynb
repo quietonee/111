{
  "nbformat": 4,
  "nbformat_minor": 0,
  "metadata": {
    "colab": {
      "provenance": [],
      "authorship_tag": "ABX9TyPzs5IBlJoAy1aJX/Ieh+sy"
    },
    "kernelspec": {
      "name": "python3",
      "display_name": "Python 3"
    },
    "language_info": {
      "name": "python"
    }
  },
  "cells": [
    {
      "cell_type": "code",
      "execution_count": null,
      "metadata": {
        "id": "05TMnqvpWfh8"
      },
      "outputs": [],
      "source": [
        "6.印星星(三)"
      ]
    },
    {
      "cell_type": "code",
      "source": [
        "n = 5\n",
        "midpoint = n // 2\n",
        "\n",
        "for i in range(n):\n",
        "    if i <= midpoint:\n",
        "        stars = 2 * i + 1\n",
        "        spaces = midpoint - i\n",
        "    else:\n",
        "        stars = 2 * (n - i - 1) + 1\n",
        "        spaces = i - midpoint\n",
        "\n",
        "    print(\" \" * spaces, end=\"\")\n",
        "\n",
        "    print(\"*\" * stars)\n"
      ],
      "metadata": {
        "colab": {
          "base_uri": "https://localhost:8080/"
        },
        "id": "4u06OTKVWnUl",
        "outputId": "a825b226-ef5e-4ab7-91fe-b72e41458f30"
      },
      "execution_count": 1,
      "outputs": [
        {
          "output_type": "stream",
          "name": "stdout",
          "text": [
            "  *\n",
            " ***\n",
            "*****\n",
            " ***\n",
            "  *\n"
          ]
        }
      ]
    }
  ]
}