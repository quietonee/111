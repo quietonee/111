{
  "nbformat": 4,
  "nbformat_minor": 0,
  "metadata": {
    "colab": {
      "provenance": [],
      "authorship_tag": "ABX9TyNQpnJTPu0qHZ4cgsW3bnAb"
    },
    "kernelspec": {
      "name": "python3",
      "display_name": "Python 3"
    },
    "language_info": {
      "name": "python"
    }
  },
  "cells": [
    {
      "cell_type": "markdown",
      "metadata": {
        "id": "OC778XisL1Au"
      },
      "source": [
        "## 課堂練習\n",
        "\n",
        "1. 寫程式計算 1 ~ 100 中的所有奇數和\n"
      ]
    },
    {
      "cell_type": "code",
      "execution_count": 2,
      "metadata": {
        "id": "GuuvKIazL1Au",
        "outputId": "cc7e0857-365f-4e15-d3d5-12535de74b59",
        "colab": {
          "base_uri": "https://localhost:8080/"
        }
      },
      "outputs": [
        {
          "output_type": "stream",
          "name": "stdout",
          "text": [
            "1 到 100 中的所有奇數和為: 2500\n"
          ]
        }
      ],
      "source": [
        "odd_sum = 0\n",
        "\n",
        "for number in range(1, 101):\n",
        "    if number % 2 != 0:\n",
        "        odd_sum += number\n",
        "\n",
        "print(\"1 到 100 中的所有奇數和為:\", odd_sum)\n"
      ]
    }
  ]
}