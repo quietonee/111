{
  "nbformat": 4,
  "nbformat_minor": 0,
  "metadata": {
    "colab": {
      "provenance": [],
      "authorship_tag": "ABX9TyN0seCu8H/KB7BRoO8i21i8"
    },
    "kernelspec": {
      "name": "python3",
      "display_name": "Python 3"
    },
    "language_info": {
      "name": "python"
    }
  },
  "cells": [
    {
      "cell_type": "markdown",
      "metadata": {
        "id": "CCNvoJsOXm_s"
      },
      "source": [
        "1. 請撰寫一個程式，呼叫一個自訂的函式 `f(x, n)`，計算一個整數 `x` 的 `n` 次方"
      ]
    },
    {
      "cell_type": "code",
      "source": [
        "def f(x, n):\n",
        "    result = x ** n\n",
        "    return result\n",
        "\n",
        "x = int(input(\"請輸入x: \"))\n",
        "n = int(input(\"請輸入n次方: \"))\n",
        "print(f\"{x} 的 {n} 次方為：\", f(x, n))\n"
      ],
      "metadata": {
        "colab": {
          "base_uri": "https://localhost:8080/"
        },
        "id": "LU3w-bYuZJgN",
        "outputId": "ed8c3199-529d-4def-8b53-792ad166ced8"
      },
      "execution_count": 2,
      "outputs": [
        {
          "output_type": "stream",
          "name": "stdout",
          "text": [
            "請輸入x: 5\n",
            "請輸入n次方: 2\n",
            "5 的 2 次方為： 25\n"
          ]
        }
      ]
    }
  ]
}