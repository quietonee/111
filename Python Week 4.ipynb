{
 "cells": [
  {
   "cell_type": "markdown",
   "metadata": {},
   "source": [
    "# Python Week 4: Function 函式"
   ]
  },
  {
   "cell_type": "markdown",
   "metadata": {},
   "source": [
    "## 4.1 函式呼叫\n",
    "\n",
    "* **Function (函式)**: 將一連串有關聯性的指令，包起來，形成一個單一功能。\n",
    "      \n",
    "* 使用一個函式，我們會說「呼叫一個函式」 \"call a function\" 或是 「一個函式呼叫」 \"a function call\" 來稱呼\n",
    "      \n",
    "* 前面遇過的函式呼叫:"
   ]
  },
  {
   "cell_type": "code",
   "execution_count": null,
   "metadata": {},
   "outputs": [],
   "source": [
    "type(32)"
   ]
  },
  {
   "cell_type": "markdown",
   "metadata": {},
   "source": [
    "這就是使用了「內建(built-in)」的type函式，讓系統完成一個作業。請問type的功能為何？\n",
    " \n",
    "而括號中的32就是type函式運算過程中需要的「參數值」。每個函式的運作有能需要數量不等的參數才能運作。"
   ]
  },
  {
   "cell_type": "markdown",
   "metadata": {},
   "source": [
    "## 4.2 型態轉換函式\n",
    "\n",
    "先介紹「一群」也是「內建(built-in)」的函式，他們功能是進行數值型態轉換。\n",
    "\n",
    "何謂數值型態(Value Type)？\n",
    "\n",
    "**目的**: 將某種型態的值轉換為另一種型態\n",
    "* 例：把「字串」轉換成「整數」，或是反過來\n",
    "\n",
    "`int()`：只能傳入一個參數，`int()`函數會把數值傳入的參數嘗試轉換為相對應的整數。如果轉換失敗，就會產生錯誤訊息。"
   ]
  },
  {
   "cell_type": "code",
   "execution_count": null,
   "metadata": {},
   "outputs": [],
   "source": [
    "int(32)"
   ]
  },
  {
   "cell_type": "code",
   "execution_count": null,
   "metadata": {
    "scrolled": true
   },
   "outputs": [],
   "source": [
    "int('Hello')"
   ]
  },
  {
   "cell_type": "markdown",
   "metadata": {},
   "source": [
    "* 小數轉整數 = 無條件捨去。因此`int()` 除了進行數值轉換，所以也可以拿來作為「無條件捨去」的功能來用。"
   ]
  },
  {
   "cell_type": "code",
   "execution_count": null,
   "metadata": {},
   "outputs": [],
   "source": [
    "int(3.99999)"
   ]
  },
  {
   "cell_type": "code",
   "execution_count": null,
   "metadata": {},
   "outputs": [],
   "source": [
    "int(-2.3)"
   ]
  },
  {
   "cell_type": "code",
   "execution_count": null,
   "metadata": {},
   "outputs": [],
   "source": [
    "int('57') + int('35')"
   ]
  },
  {
   "cell_type": "markdown",
   "metadata": {},
   "source": [
    "`float()`: 只能傳入一個參數，`float()`函數會把數值傳入的參數嘗試轉換為相對應的小數。如果轉換失敗，就會產生錯誤訊息。"
   ]
  },
  {
   "cell_type": "code",
   "execution_count": null,
   "metadata": {},
   "outputs": [],
   "source": [
    "float(32)"
   ]
  },
  {
   "cell_type": "code",
   "execution_count": null,
   "metadata": {},
   "outputs": [],
   "source": [
    "float('3.14159')"
   ]
  },
  {
   "cell_type": "code",
   "execution_count": null,
   "metadata": {},
   "outputs": [],
   "source": [
    "float('3')"
   ]
  },
  {
   "cell_type": "markdown",
   "metadata": {},
   "source": [
    "`str()`: 把傳入的參數轉為字串。"
   ]
  },
  {
   "cell_type": "code",
   "execution_count": null,
   "metadata": {},
   "outputs": [],
   "source": [
    "str(32)"
   ]
  },
  {
   "cell_type": "code",
   "execution_count": null,
   "metadata": {},
   "outputs": [],
   "source": [
    "str(3.14159)"
   ]
  },
  {
   "cell_type": "code",
   "execution_count": null,
   "metadata": {},
   "outputs": [],
   "source": [
    "str(\"Hello\")"
   ]
  },
  {
   "cell_type": "markdown",
   "metadata": {},
   "source": [
    "## 4.3 數學函式"
   ]
  },
  {
   "cell_type": "markdown",
   "metadata": {},
   "source": [
    "本節介紹數學相關函式。\n",
    "\n",
    "Python 把數學相關函式整合到一個模組當中，若需要用到數學模組，就要先「引用」(import)進來用。\n",
    "\n",
    "所有的數學相關函式，都是在 **math** 這個模組裡面。"
   ]
  },
  {
   "cell_type": "markdown",
   "metadata": {},
   "source": [
    "因此，使用數學模組，你需要以下指令："
   ]
  },
  {
   "cell_type": "code",
   "execution_count": null,
   "metadata": {},
   "outputs": [],
   "source": [
    "import math"
   ]
  },
  {
   "cell_type": "markdown",
   "metadata": {},
   "source": [
    "上面指令要是沒有錯誤訊息就是成功了。\n",
    "\n",
    "成功之後，你已經創造了math 模組的物件，透過他，你可以執行內建的數學函式。\n",
    "\n",
    "你也可以試試看「列印  math 模組」，看看系統的訊息是什麼："
   ]
  },
  {
   "cell_type": "code",
   "execution_count": null,
   "metadata": {},
   "outputs": [],
   "source": [
    "print(math)"
   ]
  },
  {
   "cell_type": "markdown",
   "metadata": {},
   "source": [
    "* math 模組內，不僅有「內建的數學函式」，也有「內建的數學常數」。\n",
    "* 要使用這些函式與常數，你都必需要知道「函式名稱」或「常數名稱」\n",
    "* 由於包裝在模組內，所以這些「函式」或「常數」前面必須透過模組來使用，表示方式為「模組.函式」或「模組.常數」。例如：\n",
    " * Function of  'logarithm base 10' (以10為底的對數) and 'sine of radians.' (三角函式中的 sin函式)\n",
    " * decibels ＝ 分貝"
   ]
  },
  {
   "cell_type": "code",
   "execution_count": null,
   "metadata": {},
   "outputs": [],
   "source": [
    "signal_power = 5.3\n",
    "noise_power = 1.25\n",
    "ratio = signal_power / noise_power\n",
    "decibels = 10 * math.log10(ratio)\n",
    "print(decibels)"
   ]
  },
  {
   "cell_type": "code",
   "execution_count": null,
   "metadata": {},
   "outputs": [],
   "source": [
    "radians = 0.7\n",
    "height = math.sin(radians)\n",
    "print(height)"
   ]
  },
  {
   "cell_type": "markdown",
   "metadata": {},
   "source": [
    "計算徑度 ($徑度 = \\frac{角度}{2 \\pi \\times 360}$) ，$\\pi = 3.14159\\ldots$ = math.pi"
   ]
  },
  {
   "cell_type": "code",
   "execution_count": null,
   "metadata": {},
   "outputs": [],
   "source": [
    "degrees = 45\n",
    "radians = degrees / 360.0 * 2 * math.pi\n",
    "math.sin(radians)"
   ]
  },
  {
   "cell_type": "markdown",
   "metadata": {},
   "source": [
    "使用數學模組中的平方根函式"
   ]
  },
  {
   "cell_type": "code",
   "execution_count": null,
   "metadata": {},
   "outputs": [],
   "source": [
    "math.sqrt(2) / 2.0"
   ]
  },
  {
   "cell_type": "markdown",
   "metadata": {},
   "source": [
    "## 4.4 組合 Composition (把指令與函式組合起來）"
   ]
  },
  {
   "cell_type": "markdown",
   "metadata": {},
   "source": [
    "我們可以每次只做一小步，做很多小步，也可以一次把很多指令黏起來。例如："
   ]
  },
  {
   "cell_type": "code",
   "execution_count": null,
   "metadata": {},
   "outputs": [],
   "source": [
    "x = math.sin(degrees / 360.0 * 2 * math.pi)\n",
    "print(x)"
   ]
  },
  {
   "cell_type": "code",
   "execution_count": null,
   "metadata": {},
   "outputs": [],
   "source": [
    "x = math.exp(math.log(x+1))"
   ]
  },
  {
   "cell_type": "markdown",
   "metadata": {},
   "source": [
    "### 課堂練習\n",
    "1. 有一直三角形, 若已知其較短兩邊長為10cm, 8cm, 則另一邊為幾公分?  (請使用 math.pow(x,y) 與 math.sqrt(x))"
   ]
  },
  {
   "cell_type": "code",
   "execution_count": null,
   "metadata": {},
   "outputs": [],
   "source": []
  },
  {
   "cell_type": "markdown",
   "metadata": {},
   "source": [
    "2. 有一直三角形, 若已知其兩邊長為10cm, 8cm, 則另一邊可能為幾公分?"
   ]
  },
  {
   "cell_type": "code",
   "execution_count": null,
   "metadata": {},
   "outputs": [],
   "source": []
  },
  {
   "cell_type": "markdown",
   "metadata": {},
   "source": [
    "## 4.5 建立我們自訂的函式"
   ]
  },
  {
   "cell_type": "markdown",
   "metadata": {},
   "source": [
    "內建的函式還有非常非常多，在很多狀況下，我們都在學習這些「內建的函式」可以幫助我們什麼事。以及如何用這接小方塊，建立大系統。\n",
    "\n",
    "但是除了使用內建的函式之外，我們也會把自己寫的幾個敘述包起來，變成一個較大的「自訂函式」。\n",
    "\n",
    "創造一個自訂函式至少需要：\n",
    "1. 給一個唯一的函式名稱\n",
    "2. 決定函式的內容\n",
    "\n",
    "以下是一個自訂函式的範例。請找出這個函式的1.名稱，2. 內容部份"
   ]
  },
  {
   "cell_type": "code",
   "execution_count": null,
   "metadata": {},
   "outputs": [],
   "source": [
    "def print_sutra():\n",
    "    print(\"揭諦揭諦。波羅揭諦。\")\n",
    "    print(\"波羅僧揭諦。菩提薩婆訶。\")"
   ]
  },
  {
   "cell_type": "code",
   "execution_count": null,
   "metadata": {},
   "outputs": [],
   "source": [
    "print_sutra()"
   ]
  },
  {
   "cell_type": "markdown",
   "metadata": {},
   "source": [
    "學習重點：\n",
    "1. `def` 是關鍵字，表示要定義一個函式\n",
    "2. 函式名稱為 `print_sutra` 接在 `def` 指令之後\n",
    "3. `()` 表示這個函式執行時不需要參數\n",
    "4. 括號後一定要接「`:`」，表示函數內容開始\n",
    "5. 上述的幾個元素組成自訂函數定義的第一行，我們稱為函式的header，而下面行，我們稱為函式的body"
   ]
  },
  {
   "cell_type": "markdown",
   "metadata": {},
   "source": [
    "**重點**：***body 內容一定要縮排，而且要縮一樣多***。\n",
    "* Python 建議使用 「四個空白」來表示縮排，但我個人習慣用「一個tab」"
   ]
  },
  {
   "cell_type": "markdown",
   "metadata": {},
   "source": [
    "* body 內容可以有無限多個指令。\n",
    "\n",
    "字串必須用 雙引號 或 單引號，前後包起來。規則是：\n",
    "* 用 雙引號 開始，就要用 雙引號 結束\n",
    "* 用 單引號 開始，就要用 單引號 結束\n",
    "\n",
    "兩者可以混用。例如："
   ]
  },
  {
   "cell_type": "code",
   "execution_count": null,
   "metadata": {},
   "outputs": [],
   "source": [
    "def print_lyrics():\n",
    "    print(\"I'm a lumberjack, and I'm okay.\")\n",
    "    print(\"I sleep all night and I work all day.\")"
   ]
  },
  {
   "cell_type": "markdown",
   "metadata": {},
   "source": [
    "呼叫函式的方式，就是用函式名稱加上括號與參數，來進行。\n",
    "\n",
    "請實做呼叫上面的例子："
   ]
  },
  {
   "cell_type": "code",
   "execution_count": null,
   "metadata": {},
   "outputs": [],
   "source": []
  },
  {
   "cell_type": "markdown",
   "metadata": {},
   "source": [
    "你也可以訂一個函式，去呼叫別的函式："
   ]
  },
  {
   "cell_type": "code",
   "execution_count": null,
   "metadata": {},
   "outputs": [],
   "source": [
    "def repeat_lyrics():\n",
    "    print_lyrics()\n",
    "    print_lyrics()\n",
    "    repeat_lyrics()"
   ]
  },
  {
   "cell_type": "code",
   "execution_count": null,
   "metadata": {},
   "outputs": [],
   "source": [
    "repeat_lyrics()"
   ]
  },
  {
   "cell_type": "code",
   "execution_count": null,
   "metadata": {},
   "outputs": [],
   "source": [
    "def fibb(x):\n",
    "    if x <= 0:\n",
    "        return 0\n",
    "    elif x == 1:\n",
    "        return 1\n",
    "    else:\n",
    "        return fibb(x -1) + fibb(x -2)\n",
    "\n",
    "fibb(20)"
   ]
  },
  {
   "cell_type": "markdown",
   "metadata": {},
   "source": [
    "## 4.6 定義與呼叫"
   ]
  },
  {
   "cell_type": "markdown",
   "metadata": {},
   "source": [
    "更多層的呼叫，讓我們來了解一下執行順序。"
   ]
  },
  {
   "cell_type": "code",
   "execution_count": null,
   "metadata": {},
   "outputs": [],
   "source": [
    "def print_sutra():\n",
    "    print(\"揭諦揭諦。波羅揭諦。\")\n",
    "    print(\"波羅僧揭諦。菩提薩婆訶。\")\n",
    "\n",
    "def repeat_sutra():\n",
    "    print_sutra()\n",
    "    print_sutra()\n",
    "\n",
    "repeat_sutra()"
   ]
  },
  {
   "cell_type": "markdown",
   "metadata": {},
   "source": [
    "請在這裡寫下來，程式是如何執行的："
   ]
  },
  {
   "cell_type": "markdown",
   "metadata": {},
   "source": []
  },
  {
   "cell_type": "markdown",
   "metadata": {},
   "source": [
    "**範例 4.1** 將上面的程式碼的最後一行移到程式的最開頭，也就是讓函式的呼叫出現在函式的定義之前，執行程式看看會有什麼結果？"
   ]
  },
  {
   "cell_type": "code",
   "execution_count": null,
   "metadata": {},
   "outputs": [],
   "source": []
  },
  {
   "cell_type": "markdown",
   "metadata": {},
   "source": [
    "**範例 4.2** 將 `repeat_sutra()` 函式的定義移到 `print_sutra()` 函式的定義之前，也就是在 `repeat_sutra()` 定義裡面呼叫 `print_sutra()` 函式之時，尚未看到 `print_sutra()` 函率的定義。若執行這樣的程式，會有什麼結果？"
   ]
  },
  {
   "cell_type": "code",
   "execution_count": null,
   "metadata": {},
   "outputs": [],
   "source": []
  },
  {
   "cell_type": "markdown",
   "metadata": {},
   "source": [
    "## 4.7 函式的執行流程"
   ]
  },
  {
   "cell_type": "markdown",
   "metadata": {},
   "source": [
    "1. 程式一定是由上到下執行，由第一行個程式指令執行到最後一行。\n",
    "2. 創造自訂函式的指令，我們又稱做「函式的宣告」。稱作「宣告」是因為，創造自訂函式時，這些內容是不會先被執行的。必須等到函式被呼叫才會執行。\n",
    "3. 「函式的宣告」並不會讓程式執行順序亂跑，而是「函式的呼叫」，才會改變程式執行順序，使其百花撩亂。\n",
    "4. 當一個指令(A)執行順「呼叫一個函式(B)」時，程式執行順序會移到該函式裡面的第一個指令，依序向下執行。直到函式(B)結束後，離開函式時，執行順序又會移到指令(A)的下一步驟。\n",
    "5. 函式內容可能會呼叫別的函式，所以程式執行順序會很複雜。"
   ]
  },
  {
   "cell_type": "markdown",
   "metadata": {},
   "source": [
    "## 4.8 參數 Paramters and Arguments"
   ]
  },
  {
   "cell_type": "markdown",
   "metadata": {},
   "source": [
    "某些函式的執行是必須要有「參數」的。例如 `math.sin`，一定要給角度才能算sin值。而 `math.pow(x,y)` 需要兩個參數才可以計算 $x$ 的 $y$ 次方。\n",
    "\n",
    "以下是一個「印兩次的函式呼叫」："
   ]
  },
  {
   "cell_type": "code",
   "execution_count": null,
   "metadata": {},
   "outputs": [],
   "source": [
    "def print_twice(X):\n",
    "    print(X)\n",
    "    print(X)"
   ]
  },
  {
   "cell_type": "markdown",
   "metadata": {},
   "source": [
    "請在程式中定義以上副程式，並執行下列呼叫試試看："
   ]
  },
  {
   "cell_type": "code",
   "execution_count": null,
   "metadata": {},
   "outputs": [],
   "source": [
    "print_twice('波羅僧揭諦。菩提薩婆訶。')"
   ]
  },
  {
   "cell_type": "code",
   "execution_count": null,
   "metadata": {},
   "outputs": [],
   "source": [
    "print_twice(X=17)"
   ]
  },
  {
   "cell_type": "code",
   "execution_count": null,
   "metadata": {},
   "outputs": [],
   "source": [
    "import math\n",
    "print_twice(X=math.pi)"
   ]
  },
  {
   "cell_type": "code",
   "execution_count": null,
   "metadata": {},
   "outputs": [],
   "source": [
    "print_twice(X='王老先生' * 4)"
   ]
  },
  {
   "cell_type": "code",
   "execution_count": null,
   "metadata": {},
   "outputs": [],
   "source": [
    "print_twice(X=math.cos(math.pi))"
   ]
  },
  {
   "cell_type": "markdown",
   "metadata": {},
   "source": [
    "也可以讓使用者的輸入，當作是你的輸出喔："
   ]
  },
  {
   "cell_type": "code",
   "execution_count": null,
   "metadata": {},
   "outputs": [],
   "source": [
    "def print_twice(strA):\n",
    "    print(strA)\n",
    "    print(strA)\n",
    "\n",
    "text = input(\"請輸入要印兩次的字串:>\")\n",
    "print(type(text))\n",
    "print_twice(strA=text)"
   ]
  },
  {
   "cell_type": "markdown",
   "metadata": {},
   "source": [
    "## 4.9 變數與參數都是區域性的"
   ]
  },
  {
   "cell_type": "markdown",
   "metadata": {},
   "source": [
    "試試看下列程式的結果, 並嘗試對自己解釋一下，為何你看到的結果是對的："
   ]
  },
  {
   "cell_type": "code",
   "execution_count": null,
   "metadata": {},
   "outputs": [],
   "source": [
    "def print_twice(text):\n",
    "    print(text)\n",
    "    print(text)\n",
    "\n",
    "def cat_twice(part1, part2):\n",
    "    cat = part1 + part2\n",
    "    print_twice(text=cat)\n",
    "\n",
    "line1 = '觀自在菩薩。'\n",
    "line2 = '行深波若波羅蜜多時。'\n",
    "cat_twice(part1=line1, part2=line2)"
   ]
  },
  {
   "cell_type": "markdown",
   "metadata": {},
   "source": [
    "最後加上一行，試試看，結果為何？這句執行結果想告訴你什麼？"
   ]
  },
  {
   "cell_type": "code",
   "execution_count": null,
   "metadata": {},
   "outputs": [],
   "source": [
    "print(cat)"
   ]
  },
  {
   "cell_type": "markdown",
   "metadata": {},
   "source": [
    "所有在函式中的定義的變數，都是「區域變數」，函式結束，「區域變數」就消滅了，其他函式是看不到的。"
   ]
  },
  {
   "cell_type": "markdown",
   "metadata": {},
   "source": [
    "## 4.10 回傳值 Return Values\n",
    "\n",
    "* 有時呼叫一個函式(function)，會得到「函式執行結果」的回傳值。通常這個回傳值會被用另一個變數儲存起來，或直接在另一個指令中使用。例如："
   ]
  },
  {
   "cell_type": "code",
   "execution_count": null,
   "metadata": {},
   "outputs": [],
   "source": [
    "import math\n",
    "e = math.exp(1.0) \n",
    "height = radius * math.sin(radians) "
   ]
  },
  {
   "cell_type": "markdown",
   "metadata": {},
   "source": [
    "* 我們的第一個「會回傳值的函式」為下面的area()函式，他會計算一個圓的面積，並傳回來給呼叫者。"
   ]
  },
  {
   "cell_type": "code",
   "execution_count": null,
   "metadata": {},
   "outputs": [],
   "source": [
    "def area(radius): \n",
    "    temp = math.pi * radius**2 \n",
    "    return temp"
   ]
  },
  {
   "cell_type": "markdown",
   "metadata": {},
   "source": [
    "* 下面的例子，做了一點小小地修改。回傳的值並沒有先放在一個變數中，而是直接將計算的結果傳回去。"
   ]
  },
  {
   "cell_type": "code",
   "execution_count": null,
   "metadata": {},
   "outputs": [],
   "source": [
    "def area(radius): \n",
    "    return math.pi * radius**2"
   ]
  },
  {
   "cell_type": "markdown",
   "metadata": {},
   "source": [
    "* 有時候，程式中可能有多個return的敘述。並且由不同的條件所決定對應的回傳值。"
   ]
  },
  {
   "cell_type": "code",
   "execution_count": null,
   "metadata": {},
   "outputs": [],
   "source": [
    "def absolute_value(x): \n",
    "    if x < 0: \n",
    "        return -x \n",
    "    else: \n",
    "        return x"
   ]
  },
  {
   "cell_type": "markdown",
   "metadata": {},
   "source": [
    "* 當return一旦被執行之後，函式就會終止，return後面的內容就不會再被執行。也就是說，如果return後續還有其他指令，則永遠不會被執行到。這些指令被稱為：dead code. \n",
    "* 若使用條件敘述與多個return指令，最好確認這些return指令能包含所有可能性。否則就會出現下面這種意外狀況："
   ]
  },
  {
   "cell_type": "code",
   "execution_count": null,
   "metadata": {},
   "outputs": [],
   "source": [
    "def absolute_value(x): \n",
    "    if x < 0: \n",
    "        return -x \n",
    "    if x > 0: \n",
    "        return x \n",
    "\n",
    "print(absolute_value(0))"
   ]
  },
  {
   "cell_type": "markdown",
   "metadata": {},
   "source": [
    "### 課堂練習\n",
    "\n",
    "1. 請寫一個函式 `compare_value(x, y)`，比較參數 `x` 和 `y` 的大小，若 `x` 大於 `y` 則回傳 `1`；若 `x` 等於 `y` 則回傳 `0`；若 `x` 小於 `y` 則回傳 `-1`。 "
   ]
  },
  {
   "cell_type": "code",
   "execution_count": 5,
   "metadata": {},
   "outputs": [
    {
     "name": "stdin",
     "output_type": "stream",
     "text": [
      "請輸入x:  1\n",
      "請輸入y:  1\n"
     ]
    },
    {
     "name": "stdout",
     "output_type": "stream",
     "text": [
      "0\n"
     ]
    }
   ],
   "source": [
    "x = int(input(\"請輸入x: \"))\n",
    "y = int(input(\"請輸入y: \"))\n",
    "\n",
    "def compare_value(x, y):\n",
    "    if x > y:\n",
    "        return 1\n",
    "    elif x == y:\n",
    "        return 0\n",
    "    else:\n",
    "        return -1\n",
    "       \n",
    "print(compare_value(x,y)) "
   ]
  },
  {
   "cell_type": "markdown",
   "metadata": {},
   "source": [
    "## 4.10 為何要用函式？"
   ]
  },
  {
   "cell_type": "markdown",
   "metadata": {},
   "source": [
    "* 建立一個新函式，也就是給你一個機會把一串敘述給一個名字，可以讓你的程式更容易閱讀，也比較好除錯。\n",
    "* 函式可以讓程式裡面不斷一直重覆的程式碼變少，而且萬一你想要做些修改，你也只要改一次就好。\n",
    "* 把一個很長的程式分割成幾個較小的函式，可以讓你除錯的時候只需要鎖定在小範圍就好，分別確定每一個函式都是正確的，組合起來就行了。\n",
    "* 一個設計得好的函式，可以讓很多程式重覆使用。你只需要寫一次，就能夠重覆一直使用者，這個稱為程式的重用性。"
   ]
  },
  {
   "cell_type": "markdown",
   "metadata": {},
   "source": [
    "## 4.11 習題"
   ]
  },
  {
   "cell_type": "markdown",
   "metadata": {},
   "source": [
    "1. 請撰寫一個程式，呼叫一個自訂的函式 `f(x, n)`，計算一個整數 `x` 的 `n` 次方"
   ]
  },
  {
   "cell_type": "code",
   "execution_count": 7,
   "metadata": {},
   "outputs": [
    {
     "name": "stdin",
     "output_type": "stream",
     "text": [
      "請輸入x:  5\n",
      "請輸入n次方:  2\n"
     ]
    },
    {
     "name": "stdout",
     "output_type": "stream",
     "text": [
      "5 的 2 次方為： 25\n"
     ]
    }
   ],
   "source": [
    "def f(x, n):\n",
    "    result = x ** n\n",
    "    return result\n",
    "\n",
    "x = int(input(\"請輸入x: \"))\n",
    "n = int(input(\"請輸入n次方: \"))\n",
    "print(f\"{x} 的 {n} 次方為：\", f(x, n))  \n"
   ]
  },
  {
   "cell_type": "markdown",
   "metadata": {},
   "source": [
    "2. 請寫一個 `is_odd(x)` 函式，檢查輸入的參數 `x` 是不是奇數。如果 `x` 是奇數則回傳 `Ture`；若 `x` 不是奇數則回傳 `False`。"
   ]
  },
  {
   "cell_type": "code",
   "execution_count": 11,
   "metadata": {},
   "outputs": [
    {
     "name": "stdin",
     "output_type": "stream",
     "text": [
      "請輸入x:  44\n"
     ]
    },
    {
     "name": "stdout",
     "output_type": "stream",
     "text": [
      "False\n"
     ]
    }
   ],
   "source": [
    "def is_odd(x):\n",
    "    if x % 2 != 0:\n",
    "        return True\n",
    "    else:\n",
    "        return False\n",
    "\n",
    "x = int(input(\"請輸入x: \"))\n",
    "\n",
    "print(is_odd(x))\n"
   ]
  },
  {
   "cell_type": "code",
   "execution_count": null,
   "metadata": {},
   "outputs": [],
   "source": []
  }
 ],
 "metadata": {
  "kernelspec": {
   "display_name": "Python 3 (ipykernel)",
   "language": "python",
   "name": "python3"
  },
  "language_info": {
   "codemirror_mode": {
    "name": "ipython",
    "version": 3
   },
   "file_extension": ".py",
   "mimetype": "text/x-python",
   "name": "python",
   "nbconvert_exporter": "python",
   "pygments_lexer": "ipython3",
   "version": "3.12.3"
  }
 },
 "nbformat": 4,
 "nbformat_minor": 4
}
