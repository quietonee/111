{
  "nbformat": 4,
  "nbformat_minor": 0,
  "metadata": {
    "colab": {
      "provenance": [],
      "authorship_tag": "ABX9TyP18s+xZucFvBdjNERk2odm"
    },
    "kernelspec": {
      "name": "python3",
      "display_name": "Python 3"
    },
    "language_info": {
      "name": "python"
    }
  },
  "cells": [
    {
      "cell_type": "markdown",
      "source": [
        "2.九九乘法表\n",
        "不換行列印的方法： print(x, end='')"
      ],
      "metadata": {
        "id": "U38L70kMPUO7"
      }
    },
    {
      "cell_type": "code",
      "execution_count": 3,
      "metadata": {
        "id": "vLW5lsBIL1Au",
        "outputId": "c8ff9b12-9e5f-4f36-a566-3c04eb91e0ab",
        "colab": {
          "base_uri": "https://localhost:8080/"
        }
      },
      "outputs": [
        {
          "output_type": "stream",
          "name": "stdout",
          "text": [
            "1 × 1 = 1\t1 × 2 = 2\t1 × 3 = 3\t1 × 4 = 4\t1 × 5 = 5\t1 × 6 = 6\t1 × 7 = 7\t1 × 8 = 8\t1 × 9 = 9\t2 × 1 = 2\t2 × 2 = 4\t2 × 3 = 6\t2 × 4 = 8\t2 × 5 = 10\t2 × 6 = 12\t2 × 7 = 14\t2 × 8 = 16\t2 × 9 = 18\t3 × 1 = 3\t3 × 2 = 6\t3 × 3 = 9\t3 × 4 = 12\t3 × 5 = 15\t3 × 6 = 18\t3 × 7 = 21\t3 × 8 = 24\t3 × 9 = 27\t4 × 1 = 4\t4 × 2 = 8\t4 × 3 = 12\t4 × 4 = 16\t4 × 5 = 20\t4 × 6 = 24\t4 × 7 = 28\t4 × 8 = 32\t4 × 9 = 36\t5 × 1 = 5\t5 × 2 = 10\t5 × 3 = 15\t5 × 4 = 20\t5 × 5 = 25\t5 × 6 = 30\t5 × 7 = 35\t5 × 8 = 40\t5 × 9 = 45\t6 × 1 = 6\t6 × 2 = 12\t6 × 3 = 18\t6 × 4 = 24\t6 × 5 = 30\t6 × 6 = 36\t6 × 7 = 42\t6 × 8 = 48\t6 × 9 = 54\t7 × 1 = 7\t7 × 2 = 14\t7 × 3 = 21\t7 × 4 = 28\t7 × 5 = 35\t7 × 6 = 42\t7 × 7 = 49\t7 × 8 = 56\t7 × 9 = 63\t8 × 1 = 8\t8 × 2 = 16\t8 × 3 = 24\t8 × 4 = 32\t8 × 5 = 40\t8 × 6 = 48\t8 × 7 = 56\t8 × 8 = 64\t8 × 9 = 72\t9 × 1 = 9\t9 × 2 = 18\t9 × 3 = 27\t9 × 4 = 36\t9 × 5 = 45\t9 × 6 = 54\t9 × 7 = 63\t9 × 8 = 72\t9 × 9 = 81\t"
          ]
        }
      ],
      "source": [
        "\n",
        "for i in range(1, 10):\n",
        "    for j in range(1, 10):\n",
        "        print(f\"{i} × {j} = {i * j}\\t\", end='')"
      ]
    },
    {
      "cell_type": "code",
      "source": [],
      "metadata": {
        "id": "PaMoUZK9PYyz"
      },
      "execution_count": null,
      "outputs": []
    }
  ]
}