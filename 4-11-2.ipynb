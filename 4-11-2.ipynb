{
  "nbformat": 4,
  "nbformat_minor": 0,
  "metadata": {
    "colab": {
      "provenance": [],
      "authorship_tag": "ABX9TyN2/gpjNOZ3gA5XsI2a1K8W"
    },
    "kernelspec": {
      "name": "python3",
      "display_name": "Python 3"
    },
    "language_info": {
      "name": "python"
    }
  },
  "cells": [
    {
      "cell_type": "code",
      "execution_count": null,
      "metadata": {
        "id": "u9bNBesaZsI1"
      },
      "outputs": [],
      "source": [
        "請寫一個 is_odd(x) 函式，檢查輸入的參數 x 是不是奇數。如果 x 是奇數則回傳 Ture；若 x 不是奇數則回傳 False。"
      ]
    },
    {
      "cell_type": "code",
      "source": [
        "def is_odd(x):\n",
        "    if x % 2 != 0:\n",
        "        return True\n",
        "    else:\n",
        "        return False\n",
        "\n",
        "x = int(input(\"請輸入x: \"))\n",
        "\n",
        "print(is_odd(x))\n"
      ],
      "metadata": {
        "colab": {
          "base_uri": "https://localhost:8080/"
        },
        "id": "mYPAf3fdaOOV",
        "outputId": "d3a2c65a-e001-4144-87c8-fdcfd93a9f57"
      },
      "execution_count": 1,
      "outputs": [
        {
          "output_type": "stream",
          "name": "stdout",
          "text": [
            "請輸入x: 44\n",
            "False\n"
          ]
        }
      ]
    }
  ]
}