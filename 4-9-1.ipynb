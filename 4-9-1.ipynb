{
  "nbformat": 4,
  "nbformat_minor": 0,
  "metadata": {
    "colab": {
      "provenance": [],
      "authorship_tag": "ABX9TyMQ2Ua/osp8W+44X/KbbwLO"
    },
    "kernelspec": {
      "name": "python3",
      "display_name": "Python 3"
    },
    "language_info": {
      "name": "python"
    }
  },
  "cells": [
    {
      "cell_type": "markdown",
      "source": [
        "請寫一個函式 compare_value(x, y)，比較參數 x 和 y 的大小，若 x 大於 y 則回傳 1；若 x 等於 y 則回傳 0；若 x 小於 y 則回傳 -1。"
      ],
      "metadata": {
        "id": "pQm_uYn1X4lG"
      }
    },
    {
      "cell_type": "code",
      "source": [
        "x = int(input(\"請輸入x: \"))\n",
        "y = int(input(\"請輸入y: \"))\n",
        "\n",
        "def compare_value(x, y):\n",
        "    if x > y:\n",
        "        return 1\n",
        "    elif x == y:\n",
        "        return 0\n",
        "    else:\n",
        "        return -1\n",
        "\n",
        "print(compare_value(x,y))"
      ],
      "metadata": {
        "colab": {
          "base_uri": "https://localhost:8080/"
        },
        "id": "Ivf4-sekX-nN",
        "outputId": "4ee82d52-47ac-4c1e-8cdb-ce557575618a"
      },
      "execution_count": 5,
      "outputs": [
        {
          "output_type": "stream",
          "name": "stdout",
          "text": [
            "請輸入x: 1\n",
            "請輸入y: 1\n",
            "0\n"
          ]
        }
      ]
    }
  ]
}